{
 "cells": [
  {
   "cell_type": "code",
   "execution_count": 41,
   "id": "a9fa9a7b-def0-4bd7-bce5-52a6dae6f240",
   "metadata": {},
   "outputs": [],
   "source": [
    "a= \"ali\""
   ]
  },
  {
   "cell_type": "code",
   "execution_count": 13,
   "id": "536effd7-2e4d-41a9-b6d9-a21d27112d1f",
   "metadata": {
    "tags": []
   },
   "outputs": [
    {
     "data": {
      "text/plain": [
       "int"
      ]
     },
     "execution_count": 13,
     "metadata": {},
     "output_type": "execute_result"
    }
   ],
   "source": [
    "type(a)"
   ]
  },
  {
   "cell_type": "code",
   "execution_count": 43,
   "id": "3d35911d-d9cc-4039-b067-28d404a6f125",
   "metadata": {},
   "outputs": [],
   "source": [
    "b =[1,23,4,5,6,7,\"lakhayd\"]"
   ]
  },
  {
   "cell_type": "code",
   "execution_count": 44,
   "id": "d6886b14-9d53-4202-91d0-f63e75269cff",
   "metadata": {},
   "outputs": [
    {
     "data": {
      "text/plain": [
       "list"
      ]
     },
     "execution_count": 44,
     "metadata": {},
     "output_type": "execute_result"
    }
   ],
   "source": [
    "type(b)"
   ]
  },
  {
   "cell_type": "code",
   "execution_count": 45,
   "id": "9cb41b61-2533-491d-9850-a20872924e6e",
   "metadata": {},
   "outputs": [],
   "source": [
    "c= 45.268"
   ]
  },
  {
   "cell_type": "code",
   "execution_count": 46,
   "id": "33ec2037-6ee1-48e7-9dbc-b050186ea7c4",
   "metadata": {},
   "outputs": [
    {
     "data": {
      "text/plain": [
       "float"
      ]
     },
     "execution_count": 46,
     "metadata": {},
     "output_type": "execute_result"
    }
   ],
   "source": [
    "type(c)"
   ]
  },
  {
   "cell_type": "code",
   "execution_count": 47,
   "id": "68fa1aca-5bd9-4a7c-9ab3-355857231bc5",
   "metadata": {},
   "outputs": [],
   "source": [
    "tuple =(1,2,3)"
   ]
  },
  {
   "cell_type": "code",
   "execution_count": 49,
   "id": "cc95ba08-fafb-435a-98e3-3a641002b325",
   "metadata": {},
   "outputs": [],
   "source": [
    "tuple2 = (2,3,4,)"
   ]
  },
  {
   "cell_type": "code",
   "execution_count": 50,
   "id": "d5fcdbb7-1aa4-4a0d-8aab-66447b6486fa",
   "metadata": {},
   "outputs": [
    {
     "data": {
      "text/plain": [
       "tuple"
      ]
     },
     "execution_count": 50,
     "metadata": {},
     "output_type": "execute_result"
    }
   ],
   "source": [
    "type(tuple)"
   ]
  },
  {
   "cell_type": "markdown",
   "id": "306c63f5-be5b-464f-8405-32e321cb31f5",
   "metadata": {},
   "source": [
    "var1 = empty string\n",
    "var 2 + string + or list\n",
    "var 3 = list + string\n",
    "var 4 = float\n"
   ]
  },
  {
   "cell_type": "markdown",
   "id": "3fc6f79e-2417-4e1f-9c48-e08b66832b42",
   "metadata": {},
   "source": [
    "/ (division operator ) this is used to one number by another "
   ]
  },
  {
   "cell_type": "code",
   "execution_count": 1,
   "id": "788c64c4-718c-4c5d-aaa3-cf4c272905cf",
   "metadata": {},
   "outputs": [],
   "source": [
    "a=20"
   ]
  },
  {
   "cell_type": "code",
   "execution_count": 2,
   "id": "0182bf30-ea0a-4ec0-8f2d-9a049ca726b9",
   "metadata": {},
   "outputs": [],
   "source": [
    "b=10"
   ]
  },
  {
   "cell_type": "code",
   "execution_count": 3,
   "id": "782226ae-a63d-4e87-9ee2-75152240c2fb",
   "metadata": {},
   "outputs": [
    {
     "data": {
      "text/plain": [
       "2.0"
      ]
     },
     "execution_count": 3,
     "metadata": {},
     "output_type": "execute_result"
    }
   ],
   "source": [
    "a/b"
   ]
  },
  {
   "cell_type": "markdown",
   "id": "a89fcd03-2c7c-4229-89cd-4ebc821cbf1b",
   "metadata": {},
   "source": [
    "% (modulo operator) it is used to calcualte the remaindder when one number is divided by another"
   ]
  },
  {
   "cell_type": "code",
   "execution_count": 4,
   "id": "73956a95-2b4f-41a2-ac26-93c38ddf6a03",
   "metadata": {},
   "outputs": [],
   "source": [
    "s= 8"
   ]
  },
  {
   "cell_type": "code",
   "execution_count": 5,
   "id": "3c827a83-1f95-422b-88f0-aa9c533e128f",
   "metadata": {},
   "outputs": [],
   "source": [
    "d= 5"
   ]
  },
  {
   "cell_type": "code",
   "execution_count": 6,
   "id": "fa420795-16cc-4ad7-86cc-ca7fc14362a9",
   "metadata": {},
   "outputs": [
    {
     "data": {
      "text/plain": [
       "3"
      ]
     },
     "execution_count": 6,
     "metadata": {},
     "output_type": "execute_result"
    }
   ],
   "source": [
    "s%d"
   ]
  },
  {
   "cell_type": "markdown",
   "id": "4408ea6f-0ebe-4e8c-927e-b5633614595b",
   "metadata": {},
   "source": [
    "// (floor division operator) it performs division and rounds down the result to the nearest whole number"
   ]
  },
  {
   "cell_type": "code",
   "execution_count": 7,
   "id": "8584bf3d-ce0b-4a29-831e-1215e181f67a",
   "metadata": {},
   "outputs": [],
   "source": [
    "q= 8"
   ]
  },
  {
   "cell_type": "code",
   "execution_count": 8,
   "id": "a657037a-88b5-4f22-8851-f3ae9ac033bf",
   "metadata": {},
   "outputs": [],
   "source": [
    "w= 7"
   ]
  },
  {
   "cell_type": "code",
   "execution_count": 9,
   "id": "2cef46e4-1ecd-41e3-911e-35d305ee63f6",
   "metadata": {},
   "outputs": [
    {
     "data": {
      "text/plain": [
       "1"
      ]
     },
     "execution_count": 9,
     "metadata": {},
     "output_type": "execute_result"
    }
   ],
   "source": [
    "q//w"
   ]
  },
  {
   "cell_type": "markdown",
   "id": "e97a4f06-6b01-4177-b2d9-309edde6c289",
   "metadata": {},
   "source": [
    "** (Exponetiation operator) it is used to raise number to a power "
   ]
  },
  {
   "cell_type": "code",
   "execution_count": 10,
   "id": "7dafceaf-d2cf-48f3-a88e-d19949b2c6a9",
   "metadata": {},
   "outputs": [],
   "source": [
    "z=2"
   ]
  },
  {
   "cell_type": "code",
   "execution_count": 11,
   "id": "7f49b9c8-07e0-444d-9e50-9d341830e7a9",
   "metadata": {},
   "outputs": [],
   "source": [
    "x=3"
   ]
  },
  {
   "cell_type": "code",
   "execution_count": 12,
   "id": "347b892b-929b-49a0-ac2b-f0a96ad4d42b",
   "metadata": {},
   "outputs": [
    {
     "data": {
      "text/plain": [
       "8"
      ]
     },
     "execution_count": 12,
     "metadata": {},
     "output_type": "execute_result"
    }
   ],
   "source": [
    "z**x"
   ]
  },
  {
   "cell_type": "code",
   "execution_count": 14,
   "id": "4c7f2953-6b5b-4dbb-9e81-ccb24fbfbb5d",
   "metadata": {},
   "outputs": [],
   "source": [
    "b =[1,2,3,4,5,6,\"lakhayad\",45.2,4j+5]"
   ]
  },
  {
   "cell_type": "code",
   "execution_count": 15,
   "id": "e344d9b6-fb94-42a3-b9e0-079c205e0f2d",
   "metadata": {},
   "outputs": [
    {
     "name": "stdout",
     "output_type": "stream",
     "text": [
      "<class 'int'>\n",
      "<class 'int'>\n",
      "<class 'int'>\n",
      "<class 'int'>\n",
      "<class 'int'>\n",
      "<class 'int'>\n",
      "<class 'str'>\n",
      "<class 'float'>\n",
      "<class 'complex'>\n"
     ]
    }
   ],
   "source": [
    "for i in b :\n",
    "    print(type(i))"
   ]
  },
  {
   "cell_type": "code",
   "execution_count": 5,
   "id": "3aaca03e-9c85-44e0-8985-ad746641ebf1",
   "metadata": {},
   "outputs": [],
   "source": [
    "f = [15,30, 25,60,24,9,15,27]"
   ]
  },
  {
   "cell_type": "code",
   "execution_count": 8,
   "id": "d148642b-3e81-4000-bf8b-1d176686e7e6",
   "metadata": {},
   "outputs": [
    {
     "name": "stdout",
     "output_type": "stream",
     "text": [
      "it is divisible by 3\n",
      "it is divisible by 3\n",
      "it is not divisible by 3\n",
      "it is divisible by 3\n",
      "it is divisible by 3\n",
      "it is divisible by 3\n",
      "it is divisible by 3\n",
      "it is divisible by 3\n"
     ]
    }
   ],
   "source": [
    "for i in f :\n",
    "    if i % 3 == 0:\n",
    "        print(\"it is divisible by 3\")\n",
    "    else:\n",
    "        print(\"it is not divisible by 3\")"
   ]
  },
  {
   "cell_type": "markdown",
   "id": "1f136a67-7289-4d29-b580-859a0c3d170e",
   "metadata": {},
   "source": [
    "Mutable are those which can be modified after creation. While immutable can't be modified once they are created"
   ]
  },
  {
   "cell_type": "code",
   "execution_count": 17,
   "id": "cfbd88ee-b12f-42d0-aee7-daa64aeb33cc",
   "metadata": {},
   "outputs": [],
   "source": [
    "l =[1,2,3,4]"
   ]
  },
  {
   "cell_type": "code",
   "execution_count": 12,
   "id": "3ff5dd79-e739-4be7-b027-4fa07ac4266b",
   "metadata": {},
   "outputs": [
    {
     "data": {
      "text/plain": [
       "(1, 2, 3, 4)"
      ]
     },
     "execution_count": 12,
     "metadata": {},
     "output_type": "execute_result"
    }
   ],
   "source": [
    "l"
   ]
  },
  {
   "cell_type": "code",
   "execution_count": 18,
   "id": "8d95ce5d-412b-435b-bc92-9c2977fd0dce",
   "metadata": {},
   "outputs": [],
   "source": [
    "l[3]=24"
   ]
  },
  {
   "cell_type": "code",
   "execution_count": 19,
   "id": "3fb51f9d-ce6c-4769-8c0d-4d6b865bbe42",
   "metadata": {},
   "outputs": [
    {
     "data": {
      "text/plain": [
       "[1, 2, 3, 24]"
      ]
     },
     "execution_count": 19,
     "metadata": {},
     "output_type": "execute_result"
    }
   ],
   "source": [
    "l"
   ]
  },
  {
   "cell_type": "code",
   "execution_count": 21,
   "id": "33ad5c91-6523-479c-805c-073d664b89ab",
   "metadata": {},
   "outputs": [],
   "source": [
    "z=[\"anish\",\"anju\"]"
   ]
  },
  {
   "cell_type": "code",
   "execution_count": 22,
   "id": "0207e6a9-5cf7-46b4-8d79-8772c0506cb9",
   "metadata": {},
   "outputs": [
    {
     "data": {
      "text/plain": [
       "['anish', 'anju']"
      ]
     },
     "execution_count": 22,
     "metadata": {},
     "output_type": "execute_result"
    }
   ],
   "source": [
    "z"
   ]
  },
  {
   "cell_type": "code",
   "execution_count": 23,
   "id": "954d4f5a-a642-4df6-89bc-23827ae849c0",
   "metadata": {},
   "outputs": [
    {
     "ename": "TypeError",
     "evalue": "list indices must be integers or slices, not str",
     "output_type": "error",
     "traceback": [
      "\u001b[0;31m---------------------------------------------------------------------------\u001b[0m",
      "\u001b[0;31mTypeError\u001b[0m                                 Traceback (most recent call last)",
      "Cell \u001b[0;32mIn[23], line 1\u001b[0m\n\u001b[0;32m----> 1\u001b[0m \u001b[43mz\u001b[49m\u001b[43m[\u001b[49m\u001b[38;5;124;43m\"\u001b[39;49m\u001b[38;5;124;43manish\u001b[39;49m\u001b[38;5;124;43m\"\u001b[39;49m\u001b[43m]\u001b[49m\u001b[38;5;241m=\u001b[39m\u001b[38;5;124m\"\u001b[39m\u001b[38;5;124mlonh\u001b[39m\u001b[38;5;124m\"\u001b[39m\n",
      "\u001b[0;31mTypeError\u001b[0m: list indices must be integers or slices, not str"
     ]
    }
   ],
   "source": [
    "z[\"anish\"]=\"lonh\""
   ]
  },
  {
   "cell_type": "code",
   "execution_count": null,
   "id": "ab8000ef-352c-4be5-95ba-f972263cf6cb",
   "metadata": {},
   "outputs": [],
   "source": []
  }
 ],
 "metadata": {
  "kernelspec": {
   "display_name": "Python 3 (ipykernel)",
   "language": "python",
   "name": "python3"
  },
  "language_info": {
   "codemirror_mode": {
    "name": "ipython",
    "version": 3
   },
   "file_extension": ".py",
   "mimetype": "text/x-python",
   "name": "python",
   "nbconvert_exporter": "python",
   "pygments_lexer": "ipython3",
   "version": "3.10.8"
  }
 },
 "nbformat": 4,
 "nbformat_minor": 5
}

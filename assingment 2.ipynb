{
 "cells": [
  {
   "cell_type": "markdown",
   "id": "459800c6-5cc4-44f5-874b-526a1738075f",
   "metadata": {},
   "source": [
    "ANS (1)  in python , you comment code by using the # symbol . After the # it is considerd as comment \n",
    "1. single line comment starts with #\n",
    "2. multi line comment starts with '''"
   ]
  },
  {
   "cell_type": "markdown",
   "id": "36b14e7a-81cf-40db-89b9-85c69d9935d0",
   "metadata": {},
   "source": [
    "ANS (2) variablesin python are used to store data .Thry are created with a name and  assinged a value using sign =\n",
    "x = 10 (int)\n",
    "y = 'alakh pandey' (str)"
   ]
  },
  {
   "cell_type": "code",
   "execution_count": 2,
   "id": "3c365841-cd58-4c5c-af81-5c263a39cfa0",
   "metadata": {},
   "outputs": [],
   "source": [
    "# ANS (3) \n",
    "x = 26546"
   ]
  },
  {
   "cell_type": "code",
   "execution_count": 3,
   "id": "4a4c4aa1-b995-4a61-a6b8-083ba41944f5",
   "metadata": {},
   "outputs": [],
   "source": [
    "y = int(x)"
   ]
  },
  {
   "cell_type": "code",
   "execution_count": 4,
   "id": "d9491365-b7be-4846-9eab-8374b1d21d5a",
   "metadata": {},
   "outputs": [
    {
     "data": {
      "text/plain": [
       "26546"
      ]
     },
     "execution_count": 4,
     "metadata": {},
     "output_type": "execute_result"
    }
   ],
   "source": [
    "y"
   ]
  },
  {
   "cell_type": "code",
   "execution_count": 6,
   "id": "139ebe6f-642c-42bd-b83f-e309454f4d67",
   "metadata": {},
   "outputs": [],
   "source": [
    "# ANS (5)\n",
    "a = [1,2,3,4]"
   ]
  },
  {
   "cell_type": "code",
   "execution_count": 7,
   "id": "8da31def-2e53-4bc3-abb5-4074095d77ec",
   "metadata": {},
   "outputs": [],
   "source": [
    "b = a[1:3]"
   ]
  },
  {
   "cell_type": "code",
   "execution_count": 8,
   "id": "9a68e602-0c34-407d-afbc-de8aa7ecc077",
   "metadata": {},
   "outputs": [
    {
     "data": {
      "text/plain": [
       "[2, 3]"
      ]
     },
     "execution_count": 8,
     "metadata": {},
     "output_type": "execute_result"
    }
   ],
   "source": [
    "b"
   ]
  },
  {
   "cell_type": "markdown",
   "id": "866d1f6c-9a01-4cd9-8677-c18ba2f748fd",
   "metadata": {},
   "source": [
    " ANS (6)\n",
    " A complex number is a number of the form ' a + bi', where a and b is the real number and i is the imaginary number\n"
   ]
  },
  {
   "cell_type": "code",
   "execution_count": 13,
   "id": "58305521-635c-4af1-b374-f28f8d56545a",
   "metadata": {},
   "outputs": [],
   "source": [
    "a = 3849j + 46"
   ]
  },
  {
   "cell_type": "code",
   "execution_count": 15,
   "id": "6753f43f-eb9e-43af-923f-679b8106639d",
   "metadata": {},
   "outputs": [
    {
     "data": {
      "text/plain": [
       "complex"
      ]
     },
     "execution_count": 15,
     "metadata": {},
     "output_type": "execute_result"
    }
   ],
   "source": [
    "type(a)"
   ]
  },
  {
   "cell_type": "code",
   "execution_count": 2,
   "id": "363b2144-d3a7-45c3-9d6b-5c176579121f",
   "metadata": {},
   "outputs": [],
   "source": [
    "#ANS (7)\n",
    "Age= 25\n",
    "\n"
   ]
  },
  {
   "cell_type": "code",
   "execution_count": 3,
   "id": "1bf38952-6387-4260-828c-d8fd6fa74906",
   "metadata": {},
   "outputs": [
    {
     "data": {
      "text/plain": [
       "25"
      ]
     },
     "execution_count": 3,
     "metadata": {},
     "output_type": "execute_result"
    }
   ],
   "source": [
    "Age"
   ]
  },
  {
   "cell_type": "code",
   "execution_count": 5,
   "id": "f558a8e6-59ac-4704-b514-22a8c2ef4afb",
   "metadata": {},
   "outputs": [],
   "source": [
    "# ANS (8)\n",
    "a = 9.99"
   ]
  },
  {
   "cell_type": "code",
   "execution_count": 6,
   "id": "328fc6e6-03ec-44d8-8250-fdee93f63a85",
   "metadata": {},
   "outputs": [
    {
     "data": {
      "text/plain": [
       "float"
      ]
     },
     "execution_count": 6,
     "metadata": {},
     "output_type": "execute_result"
    }
   ],
   "source": [
    "type(a)"
   ]
  },
  {
   "cell_type": "code",
   "execution_count": 7,
   "id": "b0a5b20c-b457-4f8f-b5a7-534df91701de",
   "metadata": {},
   "outputs": [],
   "source": [
    "# ANS (9)\n",
    "a = ('lakhayad')"
   ]
  },
  {
   "cell_type": "code",
   "execution_count": 8,
   "id": "0ce096a6-5296-4360-b6ee-ec80de8f13f1",
   "metadata": {},
   "outputs": [
    {
     "name": "stdout",
     "output_type": "stream",
     "text": [
      "lakhayad\n"
     ]
    }
   ],
   "source": [
    "print(a)"
   ]
  },
  {
   "cell_type": "code",
   "execution_count": 15,
   "id": "9fb5f80d-df2e-429c-abe9-6c0e5705c1b8",
   "metadata": {},
   "outputs": [],
   "source": [
    "# ANS(10)\n",
    "a = (\"Hello world\")"
   ]
  },
  {
   "cell_type": "code",
   "execution_count": 16,
   "id": "32a0f390-9e69-4745-9f2d-de1d27fb95e4",
   "metadata": {},
   "outputs": [
    {
     "data": {
      "text/plain": [
       "' world'"
      ]
     },
     "execution_count": 16,
     "metadata": {},
     "output_type": "execute_result"
    }
   ],
   "source": [
    "a[5:11]"
   ]
  },
  {
   "cell_type": "code",
   "execution_count": 18,
   "id": "e7875a3d-16dc-4cd4-b7bf-221817ccb555",
   "metadata": {},
   "outputs": [],
   "source": [
    "# ANS (11)\n",
    "is_student = True"
   ]
  },
  {
   "cell_type": "code",
   "execution_count": 19,
   "id": "f3115c53-dec3-4182-b641-fbc83d7df39c",
   "metadata": {},
   "outputs": [
    {
     "data": {
      "text/plain": [
       "True"
      ]
     },
     "execution_count": 19,
     "metadata": {},
     "output_type": "execute_result"
    }
   ],
   "source": [
    "is_student "
   ]
  },
  {
   "cell_type": "code",
   "execution_count": null,
   "id": "52dda8d3-669c-4f97-8a37-052d5001e351",
   "metadata": {},
   "outputs": [],
   "source": []
  }
 ],
 "metadata": {
  "kernelspec": {
   "display_name": "Python 3 (ipykernel)",
   "language": "python",
   "name": "python3"
  },
  "language_info": {
   "codemirror_mode": {
    "name": "ipython",
    "version": 3
   },
   "file_extension": ".py",
   "mimetype": "text/x-python",
   "name": "python",
   "nbconvert_exporter": "python",
   "pygments_lexer": "ipython3",
   "version": "3.10.8"
  }
 },
 "nbformat": 4,
 "nbformat_minor": 5
}
